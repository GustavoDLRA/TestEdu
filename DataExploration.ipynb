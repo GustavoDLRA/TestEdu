{
 "cells": [
  {
   "cell_type": "code",
   "execution_count": 37,
   "metadata": {},
   "outputs": [],
   "source": [
    "import pandas as pd\n",
    "import numpy as np\n",
    "import matplotlib.pyplot as plt\n",
    "import seaborn as sns"
   ]
  },
  {
   "cell_type": "code",
   "execution_count": 45,
   "metadata": {},
   "outputs": [
    {
     "name": "stderr",
     "output_type": "stream",
     "text": [
      "C:\\Users\\gusta\\AppData\\Local\\Temp/ipykernel_17952/1727823200.py:1: DtypeWarning: Columns (19,20,21,104,105,106) have mixed types. Specify dtype option on import or set low_memory=False.\n",
      "  df = pd.read_csv('ADNIMERGE.csv')\n"
     ]
    },
    {
     "data": {
      "text/html": [
       "<div>\n",
       "<style scoped>\n",
       "    .dataframe tbody tr th:only-of-type {\n",
       "        vertical-align: middle;\n",
       "    }\n",
       "\n",
       "    .dataframe tbody tr th {\n",
       "        vertical-align: top;\n",
       "    }\n",
       "\n",
       "    .dataframe thead th {\n",
       "        text-align: right;\n",
       "    }\n",
       "</style>\n",
       "<table border=\"1\" class=\"dataframe\">\n",
       "  <thead>\n",
       "    <tr style=\"text-align: right;\">\n",
       "      <th></th>\n",
       "      <th>RID</th>\n",
       "      <th>COLPROT</th>\n",
       "      <th>ORIGPROT</th>\n",
       "      <th>PTID</th>\n",
       "      <th>SITE</th>\n",
       "      <th>VISCODE</th>\n",
       "      <th>EXAMDATE</th>\n",
       "      <th>DX_bl</th>\n",
       "      <th>AGE</th>\n",
       "      <th>PTGENDER</th>\n",
       "      <th>...</th>\n",
       "      <th>PTAU_bl</th>\n",
       "      <th>FDG_bl</th>\n",
       "      <th>PIB_bl</th>\n",
       "      <th>AV45_bl</th>\n",
       "      <th>FBB_bl</th>\n",
       "      <th>Years_bl</th>\n",
       "      <th>Month_bl</th>\n",
       "      <th>Month</th>\n",
       "      <th>M</th>\n",
       "      <th>update_stamp</th>\n",
       "    </tr>\n",
       "  </thead>\n",
       "  <tbody>\n",
       "    <tr>\n",
       "      <th>0</th>\n",
       "      <td>2</td>\n",
       "      <td>ADNI1</td>\n",
       "      <td>ADNI1</td>\n",
       "      <td>011_S_0002</td>\n",
       "      <td>11</td>\n",
       "      <td>bl</td>\n",
       "      <td>9/8/2005</td>\n",
       "      <td>CN</td>\n",
       "      <td>74.3</td>\n",
       "      <td>Male</td>\n",
       "      <td>...</td>\n",
       "      <td>NaN</td>\n",
       "      <td>1.33615</td>\n",
       "      <td>NaN</td>\n",
       "      <td>NaN</td>\n",
       "      <td>NaN</td>\n",
       "      <td>0.000000</td>\n",
       "      <td>0.00000</td>\n",
       "      <td>0</td>\n",
       "      <td>0</td>\n",
       "      <td>58:48.0</td>\n",
       "    </tr>\n",
       "    <tr>\n",
       "      <th>1</th>\n",
       "      <td>3</td>\n",
       "      <td>ADNI1</td>\n",
       "      <td>ADNI1</td>\n",
       "      <td>011_S_0003</td>\n",
       "      <td>11</td>\n",
       "      <td>bl</td>\n",
       "      <td>9/12/2005</td>\n",
       "      <td>AD</td>\n",
       "      <td>81.3</td>\n",
       "      <td>Male</td>\n",
       "      <td>...</td>\n",
       "      <td>22.83</td>\n",
       "      <td>1.10860</td>\n",
       "      <td>NaN</td>\n",
       "      <td>NaN</td>\n",
       "      <td>NaN</td>\n",
       "      <td>0.000000</td>\n",
       "      <td>0.00000</td>\n",
       "      <td>0</td>\n",
       "      <td>0</td>\n",
       "      <td>58:48.0</td>\n",
       "    </tr>\n",
       "    <tr>\n",
       "      <th>2</th>\n",
       "      <td>3</td>\n",
       "      <td>ADNI1</td>\n",
       "      <td>ADNI1</td>\n",
       "      <td>011_S_0003</td>\n",
       "      <td>11</td>\n",
       "      <td>m06</td>\n",
       "      <td>3/13/2006</td>\n",
       "      <td>AD</td>\n",
       "      <td>81.3</td>\n",
       "      <td>Male</td>\n",
       "      <td>...</td>\n",
       "      <td>22.83</td>\n",
       "      <td>1.10860</td>\n",
       "      <td>NaN</td>\n",
       "      <td>NaN</td>\n",
       "      <td>NaN</td>\n",
       "      <td>0.498289</td>\n",
       "      <td>5.96721</td>\n",
       "      <td>6</td>\n",
       "      <td>6</td>\n",
       "      <td>58:48.0</td>\n",
       "    </tr>\n",
       "    <tr>\n",
       "      <th>3</th>\n",
       "      <td>3</td>\n",
       "      <td>ADNI1</td>\n",
       "      <td>ADNI1</td>\n",
       "      <td>011_S_0003</td>\n",
       "      <td>11</td>\n",
       "      <td>m12</td>\n",
       "      <td>9/12/2006</td>\n",
       "      <td>AD</td>\n",
       "      <td>81.3</td>\n",
       "      <td>Male</td>\n",
       "      <td>...</td>\n",
       "      <td>22.83</td>\n",
       "      <td>1.10860</td>\n",
       "      <td>NaN</td>\n",
       "      <td>NaN</td>\n",
       "      <td>NaN</td>\n",
       "      <td>0.999316</td>\n",
       "      <td>11.96720</td>\n",
       "      <td>12</td>\n",
       "      <td>12</td>\n",
       "      <td>58:48.0</td>\n",
       "    </tr>\n",
       "    <tr>\n",
       "      <th>4</th>\n",
       "      <td>3</td>\n",
       "      <td>ADNI1</td>\n",
       "      <td>ADNI1</td>\n",
       "      <td>011_S_0003</td>\n",
       "      <td>11</td>\n",
       "      <td>m24</td>\n",
       "      <td>9/12/2007</td>\n",
       "      <td>AD</td>\n",
       "      <td>81.3</td>\n",
       "      <td>Male</td>\n",
       "      <td>...</td>\n",
       "      <td>22.83</td>\n",
       "      <td>1.10860</td>\n",
       "      <td>NaN</td>\n",
       "      <td>NaN</td>\n",
       "      <td>NaN</td>\n",
       "      <td>1.998630</td>\n",
       "      <td>23.93440</td>\n",
       "      <td>24</td>\n",
       "      <td>24</td>\n",
       "      <td>58:48.0</td>\n",
       "    </tr>\n",
       "    <tr>\n",
       "      <th>...</th>\n",
       "      <td>...</td>\n",
       "      <td>...</td>\n",
       "      <td>...</td>\n",
       "      <td>...</td>\n",
       "      <td>...</td>\n",
       "      <td>...</td>\n",
       "      <td>...</td>\n",
       "      <td>...</td>\n",
       "      <td>...</td>\n",
       "      <td>...</td>\n",
       "      <td>...</td>\n",
       "      <td>...</td>\n",
       "      <td>...</td>\n",
       "      <td>...</td>\n",
       "      <td>...</td>\n",
       "      <td>...</td>\n",
       "      <td>...</td>\n",
       "      <td>...</td>\n",
       "      <td>...</td>\n",
       "      <td>...</td>\n",
       "      <td>...</td>\n",
       "    </tr>\n",
       "    <tr>\n",
       "      <th>16340</th>\n",
       "      <td>4395</td>\n",
       "      <td>ADNI3</td>\n",
       "      <td>ADNI2</td>\n",
       "      <td>013_S_4395</td>\n",
       "      <td>13</td>\n",
       "      <td>m132</td>\n",
       "      <td>4/10/2023</td>\n",
       "      <td>LMCI</td>\n",
       "      <td>72.4</td>\n",
       "      <td>Female</td>\n",
       "      <td>...</td>\n",
       "      <td>11.81</td>\n",
       "      <td>1.38849</td>\n",
       "      <td>NaN</td>\n",
       "      <td>1.0080</td>\n",
       "      <td>NaN</td>\n",
       "      <td>11.211500</td>\n",
       "      <td>134.26200</td>\n",
       "      <td>132</td>\n",
       "      <td>132</td>\n",
       "      <td>59:01.0</td>\n",
       "    </tr>\n",
       "    <tr>\n",
       "      <th>16341</th>\n",
       "      <td>4177</td>\n",
       "      <td>ADNI3</td>\n",
       "      <td>ADNI2</td>\n",
       "      <td>033_S_4177</td>\n",
       "      <td>33</td>\n",
       "      <td>m138</td>\n",
       "      <td>3/16/2023</td>\n",
       "      <td>CN</td>\n",
       "      <td>84.9</td>\n",
       "      <td>Male</td>\n",
       "      <td>...</td>\n",
       "      <td>15.28</td>\n",
       "      <td>1.46638</td>\n",
       "      <td>NaN</td>\n",
       "      <td>1.0447</td>\n",
       "      <td>NaN</td>\n",
       "      <td>11.520900</td>\n",
       "      <td>137.96700</td>\n",
       "      <td>138</td>\n",
       "      <td>138</td>\n",
       "      <td>59:51.0</td>\n",
       "    </tr>\n",
       "    <tr>\n",
       "      <th>16342</th>\n",
       "      <td>4036</td>\n",
       "      <td>ADNI3</td>\n",
       "      <td>ADNI2</td>\n",
       "      <td>941_S_4036</td>\n",
       "      <td>941</td>\n",
       "      <td>m144</td>\n",
       "      <td>4/12/2023</td>\n",
       "      <td>EMCI</td>\n",
       "      <td>74.0</td>\n",
       "      <td>Male</td>\n",
       "      <td>...</td>\n",
       "      <td>19.84</td>\n",
       "      <td>1.57382</td>\n",
       "      <td>NaN</td>\n",
       "      <td>1.0263</td>\n",
       "      <td>NaN</td>\n",
       "      <td>11.767300</td>\n",
       "      <td>140.91800</td>\n",
       "      <td>138</td>\n",
       "      <td>144</td>\n",
       "      <td>58:49.0</td>\n",
       "    </tr>\n",
       "    <tr>\n",
       "      <th>16343</th>\n",
       "      <td>5253</td>\n",
       "      <td>ADNI3</td>\n",
       "      <td>ADNI2</td>\n",
       "      <td>041_S_5253</td>\n",
       "      <td>41</td>\n",
       "      <td>m114</td>\n",
       "      <td>3/22/2023</td>\n",
       "      <td>SMC</td>\n",
       "      <td>68.1</td>\n",
       "      <td>Male</td>\n",
       "      <td>...</td>\n",
       "      <td>18.55</td>\n",
       "      <td>1.31171</td>\n",
       "      <td>NaN</td>\n",
       "      <td>1.0961</td>\n",
       "      <td>NaN</td>\n",
       "      <td>9.626280</td>\n",
       "      <td>115.27900</td>\n",
       "      <td>114</td>\n",
       "      <td>114</td>\n",
       "      <td>58:54.0</td>\n",
       "    </tr>\n",
       "    <tr>\n",
       "      <th>16344</th>\n",
       "      <td>4513</td>\n",
       "      <td>ADNI3</td>\n",
       "      <td>ADNI2</td>\n",
       "      <td>041_S_4513</td>\n",
       "      <td>41</td>\n",
       "      <td>m132</td>\n",
       "      <td>3/28/2023</td>\n",
       "      <td>EMCI</td>\n",
       "      <td>60.6</td>\n",
       "      <td>Male</td>\n",
       "      <td>...</td>\n",
       "      <td>15.28</td>\n",
       "      <td>1.50128</td>\n",
       "      <td>NaN</td>\n",
       "      <td>1.0476</td>\n",
       "      <td>NaN</td>\n",
       "      <td>11.050000</td>\n",
       "      <td>132.32800</td>\n",
       "      <td>132</td>\n",
       "      <td>132</td>\n",
       "      <td>59:34.0</td>\n",
       "    </tr>\n",
       "  </tbody>\n",
       "</table>\n",
       "<p>16345 rows × 116 columns</p>\n",
       "</div>"
      ],
      "text/plain": [
       "        RID COLPROT ORIGPROT        PTID  SITE VISCODE   EXAMDATE DX_bl   AGE  \\\n",
       "0         2   ADNI1    ADNI1  011_S_0002    11      bl   9/8/2005    CN  74.3   \n",
       "1         3   ADNI1    ADNI1  011_S_0003    11      bl  9/12/2005    AD  81.3   \n",
       "2         3   ADNI1    ADNI1  011_S_0003    11     m06  3/13/2006    AD  81.3   \n",
       "3         3   ADNI1    ADNI1  011_S_0003    11     m12  9/12/2006    AD  81.3   \n",
       "4         3   ADNI1    ADNI1  011_S_0003    11     m24  9/12/2007    AD  81.3   \n",
       "...     ...     ...      ...         ...   ...     ...        ...   ...   ...   \n",
       "16340  4395   ADNI3    ADNI2  013_S_4395    13    m132  4/10/2023  LMCI  72.4   \n",
       "16341  4177   ADNI3    ADNI2  033_S_4177    33    m138  3/16/2023    CN  84.9   \n",
       "16342  4036   ADNI3    ADNI2  941_S_4036   941    m144  4/12/2023  EMCI  74.0   \n",
       "16343  5253   ADNI3    ADNI2  041_S_5253    41    m114  3/22/2023   SMC  68.1   \n",
       "16344  4513   ADNI3    ADNI2  041_S_4513    41    m132  3/28/2023  EMCI  60.6   \n",
       "\n",
       "      PTGENDER  ...  PTAU_bl   FDG_bl PIB_bl AV45_bl  FBB_bl   Years_bl  \\\n",
       "0         Male  ...      NaN  1.33615    NaN     NaN     NaN   0.000000   \n",
       "1         Male  ...    22.83  1.10860    NaN     NaN     NaN   0.000000   \n",
       "2         Male  ...    22.83  1.10860    NaN     NaN     NaN   0.498289   \n",
       "3         Male  ...    22.83  1.10860    NaN     NaN     NaN   0.999316   \n",
       "4         Male  ...    22.83  1.10860    NaN     NaN     NaN   1.998630   \n",
       "...        ...  ...      ...      ...    ...     ...     ...        ...   \n",
       "16340   Female  ...    11.81  1.38849    NaN  1.0080     NaN  11.211500   \n",
       "16341     Male  ...    15.28  1.46638    NaN  1.0447     NaN  11.520900   \n",
       "16342     Male  ...    19.84  1.57382    NaN  1.0263     NaN  11.767300   \n",
       "16343     Male  ...    18.55  1.31171    NaN  1.0961     NaN   9.626280   \n",
       "16344     Male  ...    15.28  1.50128    NaN  1.0476     NaN  11.050000   \n",
       "\n",
       "        Month_bl  Month    M update_stamp  \n",
       "0        0.00000      0    0      58:48.0  \n",
       "1        0.00000      0    0      58:48.0  \n",
       "2        5.96721      6    6      58:48.0  \n",
       "3       11.96720     12   12      58:48.0  \n",
       "4       23.93440     24   24      58:48.0  \n",
       "...          ...    ...  ...          ...  \n",
       "16340  134.26200    132  132      59:01.0  \n",
       "16341  137.96700    138  138      59:51.0  \n",
       "16342  140.91800    138  144      58:49.0  \n",
       "16343  115.27900    114  114      58:54.0  \n",
       "16344  132.32800    132  132      59:34.0  \n",
       "\n",
       "[16345 rows x 116 columns]"
      ]
     },
     "execution_count": 45,
     "metadata": {},
     "output_type": "execute_result"
    }
   ],
   "source": [
    "df = pd.read_csv('ADNIMERGE.csv')\n",
    "df"
   ]
  },
  {
   "cell_type": "code",
   "execution_count": 7,
   "metadata": {},
   "outputs": [
    {
     "data": {
      "text/plain": [
       "<AxesSubplot:>"
      ]
     },
     "execution_count": 7,
     "metadata": {},
     "output_type": "execute_result"
    },
    {
     "data": {
      "image/png": "[encoded data removed]",
      "text/plain": [
       "<Figure size 432x288 with 1 Axes>"
      ]
     },
     "metadata": {},
     "output_type": "display_data"
    }
   ],
   "source": [
    "df.groupby('PTGENDER').size().plot(kind='pie', autopct='%.2f')"
   ]
  },
  {
   "cell_type": "code",
   "execution_count": 32,
   "metadata": {},
   "outputs": [
    {
     "data": {
      "text/plain": [
       "array([74.3, 81.3, 67.5, 73.7, 80.4, 75.4, 73.9, 78.5, 80.8, 65.4, 72.6,\n",
       "       71.7, 66.9, 64.1, 83.3, 76.9, 76.8, 73.2, 70.9, 72.8, 68.5, 76.2,\n",
       "       85.8, 85.9, 84.7, 77.6, 66.5, 80.1, 81. , 75.5, 69.6, 80.2, 77.3,\n",
       "       70.1, 70. , 77. , 71.8, 74.5, 74.4, 72.9, 74. , 70.6, 78. , 78.2,\n",
       "       78.3, 79.7, 76. , 85. , 75.3, 80.3, 75.1, 65.6, 65.1, 90.1, 69.8,\n",
       "       62.4, 77.2, 70.7, 79.6, 84.4, 73.6, 70.3, 87.3, 60.7, 82.6, 75.8,\n",
       "       75.2, 78.4, 72. , 73.3, 77.5, 73.1, 86.3, 65.9, 81.1, 79.2, 59.7,\n",
       "       74.1, 77.9, 64.9, 79.1, 72.5, 89.3, 71.9, 74.7, 74.8, 64.8, 80.9,\n",
       "       63.6, 72.4, 65.8, 77.1, 86.1, 78.8, 80.5, 61.4, 71.1, 62.9, 84.3,\n",
       "       83.6, 67.4, 82.4, 80. , 60.3, 88.3, 81.8, 68. , 73.8, 71.3, 78.6,\n",
       "       85.5, 67.1, 70.4, 62.8, 72.1, 67.7, 79.4, 76.4, 87.7, 84.8, 89.1,\n",
       "       56.4, 73.4, 73.5, 84.2, 70.8, 82.7, 78.1, 82.8, 71.5, 70.2, 68.3,\n",
       "       76.6, 64.6, 69.9, 83.4, 76.1, 68.4, 70.5, 71.6, 56.5, 75.9, 79.3,\n",
       "       69. , 79.8, 72.3, 71.2, 84.6, 86.2, 84. , 74.6, 69.2, 63.9, 76.3,\n",
       "       77.8, 82.2, 61.3, 75.6, 80.6, 62.7, 81.9, 72.7, 54.4, 82.9, 83.1,\n",
       "       86.6, 56.1, 64.4, 75.7, 77.4, 74.9, 71.4, 55.2, 57.7, 68.9, 80.7,\n",
       "       69.4, 77.7, 85.1, 72.2, 76.7, 66.1, 68.7, 64.2, 60.1, 86.5, 71. ,\n",
       "       62.3, 83.2, 58.4, 84.5, 75. , 86.7, 82.5, 67.2, 61. , 62. , 87.8,\n",
       "       83.8, 66.3, 85.3, 57.1, 65.5, 73. , 62.2, 79.5, 81.6, 74.2, 87. ,\n",
       "       79. , 86.8, 85.2, 84.1, 65.3, 69.1, 56.6, 68.1, 82. , 81.7, 69.3,\n",
       "       63.8, 64.3, 55.1, 90.9, 58.7, 68.6, 87.2, 61.2, 59.8, 65.7, 69.5,\n",
       "       81.4, 87.9, 83. , 64.5, 56.2, 86.4, 79.9, 81.5, 69.7, 57.8, 84.9,\n",
       "       81.2, 67.8, 85.4, 83.5, 67. , 78.9, 62.6, 59.9, 59.3, 61.7, 76.5,\n",
       "       64.7, 58.9, 61.8, 61.1, 59.4, 63.1, 66. , 66.8, 57. , 63.4, 65.2,\n",
       "       83.7, 61.6, 62.5, 66.7, 68.2, 68.8, 82.3, 55.5, 64. , 56.3, 63. ,\n",
       "       66.4, 58.8, 67.3, 61.9, 60.6, 63.7, 78.7, 58.2, 60.2, 55. , 65. ,\n",
       "       85.6, 55.9, 67.6, 58. , 56.7, 60.8, 59.2, 66.6, 62.1, 63.2, 88.1,\n",
       "       83.9, 58.5, 90.3, 82.1, 67.9, 66.2, 86. , 87.1, 59.5, 88.6, 55.6,\n",
       "       86.9, 89.6, 63.5, 91.4, 59. , 89. , 88. , 57.2, 88.5, 88.8, 87.6,\n",
       "       56. , 60. , 88.4, 60.5, 59.6, 57.6, 90.6, 90. ,  nan, 55.4, 57.5,\n",
       "       61.5, 57.9, 60.9, 63.3, 60.4, 89.2, 55.8, 55.3, 58.3, 59.1, 89.9,\n",
       "       57.4, 87.4, 87.5, 89.5, 58.6, 56.8, 50.4, 54.8, 52.7, 53.5])"
      ]
     },
     "execution_count": 32,
     "metadata": {},
     "output_type": "execute_result"
    }
   ],
   "source": [
    "df['AGE'].unique()"
   ]
  },
  {
   "cell_type": "code",
   "execution_count": 33,
   "metadata": {},
   "outputs": [],
   "source": [
    "ages_as_ints = df['AGE'].unique()"
   ]
  },
  {
   "cell_type": "code",
   "execution_count": 24,
   "metadata": {},
   "outputs": [],
   "source": [
    "ages_as_ints = ages_as_ints[~np.isnan(ages_as_ints)]\n",
    "ages_as_ints = ages_as_ints.astype(int)"
   ]
  },
  {
   "cell_type": "code",
   "execution_count": 25,
   "metadata": {},
   "outputs": [
    {
     "data": {
      "text/plain": [
       "array([74, 81, 67, 73, 80, 75, 73, 78, 80, 65, 72, 71, 66, 64, 83, 76, 76,\n",
       "       73, 70, 72, 68, 76, 85, 85, 84, 77, 66, 80, 81, 75, 69, 80, 77, 70,\n",
       "       70, 77, 71, 74, 74, 72, 74, 70, 78, 78, 78, 79, 76, 85, 75, 80, 75,\n",
       "       65, 65, 90, 69, 62, 77, 70, 79, 84, 73, 70, 87, 60, 82, 75, 75, 78,\n",
       "       72, 73, 77, 73, 86, 65, 81, 79, 59, 74, 77, 64, 79, 72, 89, 71, 74,\n",
       "       74, 64, 80, 63, 72, 65, 77, 86, 78, 80, 61, 71, 62, 84, 83, 67, 82,\n",
       "       80, 60, 88, 81, 68, 73, 71, 78, 85, 67, 70, 62, 72, 67, 79, 76, 87,\n",
       "       84, 89, 56, 73, 73, 84, 70, 82, 78, 82, 71, 70, 68, 76, 64, 69, 83,\n",
       "       76, 68, 70, 71, 56, 75, 79, 69, 79, 72, 71, 84, 86, 84, 74, 69, 63,\n",
       "       76, 77, 82, 61, 75, 80, 62, 81, 72, 54, 82, 83, 86, 56, 64, 75, 77,\n",
       "       74, 71, 55, 57, 68, 80, 69, 77, 85, 72, 76, 66, 68, 64, 60, 86, 71,\n",
       "       62, 83, 58, 84, 75, 86, 82, 67, 61, 62, 87, 83, 66, 85, 57, 65, 73,\n",
       "       62, 79, 81, 74, 87, 79, 86, 85, 84, 65, 69, 56, 68, 82, 81, 69, 63,\n",
       "       64, 55, 90, 58, 68, 87, 61, 59, 65, 69, 81, 87, 83, 64, 56, 86, 79,\n",
       "       81, 69, 57, 84, 81, 67, 85, 83, 67, 78, 62, 59, 59, 61, 76, 64, 58,\n",
       "       61, 61, 59, 63, 66, 66, 57, 63, 65, 83, 61, 62, 66, 68, 68, 82, 55,\n",
       "       64, 56, 63, 66, 58, 67, 61, 60, 63, 78, 58, 60, 55, 65, 85, 55, 67,\n",
       "       58, 56, 60, 59, 66, 62, 63, 88, 83, 58, 90, 82, 67, 66, 86, 87, 59,\n",
       "       88, 55, 86, 89, 63, 91, 59, 89, 88, 57, 88, 88, 87, 56, 60, 88, 60,\n",
       "       59, 57, 90, 90, 55, 57, 61, 57, 60, 63, 60, 89, 55, 55, 58, 59, 89,\n",
       "       57, 87, 87, 89, 58, 56, 50, 54, 52, 53])"
      ]
     },
     "execution_count": 25,
     "metadata": {},
     "output_type": "execute_result"
    }
   ],
   "source": [
    "ages_as_ints = ages_as_ints[~np.isnan(ages_as_ints)]\n",
    "ages_as_ints"
   ]
  },
  {
   "cell_type": "code",
   "execution_count": 26,
   "metadata": {},
   "outputs": [
    {
     "name": "stdout",
     "output_type": "stream",
     "text": [
      "[[50  1]\n",
      " [52  1]\n",
      " [53  1]\n",
      " [54  2]\n",
      " [55  9]\n",
      " [56  9]\n",
      " [57  9]\n",
      " [58  9]\n",
      " [59 10]\n",
      " [60 10]\n",
      " [61 10]\n",
      " [62 10]\n",
      " [63 10]\n",
      " [64 10]\n",
      " [65 10]\n",
      " [66 10]\n",
      " [67 10]\n",
      " [68 10]\n",
      " [69 10]\n",
      " [70 10]\n",
      " [71 10]\n",
      " [72 10]\n",
      " [73 10]\n",
      " [74 10]\n",
      " [75 10]\n",
      " [76 10]\n",
      " [77 10]\n",
      " [78 10]\n",
      " [79 10]\n",
      " [80 10]\n",
      " [81 10]\n",
      " [82 10]\n",
      " [83 10]\n",
      " [84 10]\n",
      " [85  9]\n",
      " [86 10]\n",
      " [87 10]\n",
      " [88  7]\n",
      " [89  7]\n",
      " [90  5]\n",
      " [91  1]]\n"
     ]
    }
   ],
   "source": [
    "unique, counts = np.unique(ages_as_ints, return_counts = True)\n",
    "print(np.asarray((unique, counts)).T)"
   ]
  },
  {
   "cell_type": "code",
   "execution_count": 30,
   "metadata": {},
   "outputs": [
    {
     "data": {
      "text/plain": [
       "Text(0.5, 1.0, 'Patient age distribution')"
      ]
     },
     "execution_count": 30,
     "metadata": {},
     "output_type": "execute_result"
    },
    {
     "data": {
      "image/png": "[encoded data removed]",
      "text/plain": [
       "<Figure size 432x288 with 1 Axes>"
      ]
     },
     "metadata": {
      "needs_background": "light"
     },
     "output_type": "display_data"
    }
   ],
   "source": [
    "%matplotlib inline\n",
    "plt.bar(unique,counts, label=\"Age counts\")\n",
    "plt.legend()\n",
    "\n",
    "plt.xlabel('Unique Age Values')\n",
    "plt.ylabel('Frequency')\n",
    "plt.title('Patient age distribution')"
   ]
  },
  {
   "cell_type": "code",
   "execution_count": 39,
   "metadata": {},
   "outputs": [
    {
     "data": {
      "text/plain": [
       "<AxesSubplot:>"
      ]
     },
     "execution_count": 39,
     "metadata": {},
     "output_type": "execute_result"
    },
    {
     "data": {
      "image/png": "[encoded data removed]",
      "text/plain": [
       "<Figure size 432x288 with 1 Axes>"
      ]
     },
     "metadata": {},
     "output_type": "display_data"
    }
   ],
   "source": [
    "df.groupby('PTRACCAT').size().plot(kind='pie', autopct='%.2f')"
   ]
  },
  {
   "cell_type": "code",
   "execution_count": 40,
   "metadata": {},
   "outputs": [],
   "source": [
    "race_dist = ages_as_ints = df['PTRACCAT'].unique()"
   ]
  },
  {
   "cell_type": "code",
   "execution_count": 41,
   "metadata": {},
   "outputs": [
    {
     "data": {
      "text/plain": [
       "array(['White', 'More than one', 'Black', 'Asian', 'Am Indian/Alaskan',\n",
       "       'Unknown', 'Hawaiian/Other PI'], dtype=object)"
      ]
     },
     "execution_count": 41,
     "metadata": {},
     "output_type": "execute_result"
    }
   ],
   "source": [
    "race_dist"
   ]
  },
  {
   "cell_type": "code",
   "execution_count": 47,
   "metadata": {},
   "outputs": [
    {
     "data": {
      "text/plain": [
       "PTRACCAT\n",
       "Am Indian/Alaskan       28\n",
       "Asian                  296\n",
       "Black                  753\n",
       "Hawaiian/Other PI        8\n",
       "More than one          184\n",
       "Unknown                 35\n",
       "White                15041\n",
       "Name: PTRACCAT, dtype: int64"
      ]
     },
     "execution_count": 47,
     "metadata": {},
     "output_type": "execute_result"
    }
   ],
   "source": [
    "df.groupby('PTRACCAT')['PTRACCAT'].count()"
   ]
  },
  {
   "cell_type": "code",
   "execution_count": 51,
   "metadata": {},
   "outputs": [],
   "source": [
    "series = df['PTRACCAT'].value_counts()"
   ]
  },
  {
   "cell_type": "code",
   "execution_count": 53,
   "metadata": {},
   "outputs": [
    {
     "name": "stdout",
     "output_type": "stream",
     "text": [
      "{'White': 15041, 'Black': 753, 'Asian': 296, 'More than one': 184, 'Unknown': 35, 'Am Indian/Alaskan': 28, 'Hawaiian/Other PI': 8}\n"
     ]
    }
   ],
   "source": [
    "series_dict = series.to_dict()\n",
    "print(series_dict)"
   ]
  },
  {
   "cell_type": "code",
   "execution_count": 55,
   "metadata": {},
   "outputs": [
    {
     "data": {
      "image/png": "[encoded data removed]",
      "text/plain": [
       "<Figure size 432x288 with 1 Axes>"
      ]
     },
     "metadata": {
      "needs_background": "light"
     },
     "output_type": "display_data"
    }
   ],
   "source": [
    "names = list(series_dict.keys())\n",
    "values = list(series_dict.values())\n",
    "\n",
    "plt.bar(range(len(series_dict)), values, tick_label=names)\n",
    "plt.show()"
   ]
  },
  {
   "cell_type": "code",
   "execution_count": null,
   "metadata": {},
   "outputs": [],
   "source": []
  }
 ],
 "metadata": {
  "kernelspec": {
   "display_name": "Python 3 (ipykernel)",
   "language": "python",
   "name": "python3"
  },
  "language_info": {
   "codemirror_mode": {
    "name": "ipython",
    "version": 3
   },
   "file_extension": ".py",
   "mimetype": "text/x-python",
   "name": "python",
   "nbconvert_exporter": "python",
   "pygments_lexer": "ipython3",
   "version": "3.9.7"
  }
 },
 "nbformat": 4,
 "nbformat_minor": 4
}
